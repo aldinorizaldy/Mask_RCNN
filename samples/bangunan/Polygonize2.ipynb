{
 "cells": [
  {
   "cell_type": "code",
   "execution_count": 1,
   "id": "1716007f",
   "metadata": {},
   "outputs": [
    {
     "name": "stdout",
     "output_type": "stream",
     "text": [
      "Keys: <KeysViewHDF5 ['masks']>\n",
      "bool\n",
      "int32\n"
     ]
    }
   ],
   "source": [
    "import h5py\n",
    "import numpy as np\n",
    "import rasterio.features\n",
    "import shapely.geometry\n",
    "from osgeo import ogr\n",
    "from shapely.geometry import Polygon\n",
    "from shapely.geometry import MultiPolygon\n",
    "from shapely.geometry import asPolygon\n",
    "from shapely.geometry import asMultiPolygon\n",
    "\n",
    "\n",
    "filename = \"masks_prof.h5\"\n",
    "\n",
    "with h5py.File(filename, \"r\") as f:\n",
    "    # List all groups\n",
    "    print(\"Keys: %s\" % f.keys())\n",
    "    a_group_key = list(f.keys())[0]\n",
    "\n",
    "    # Get the data\n",
    "    masks = list(f[a_group_key])\n",
    "\n",
    "masks = np.array(masks)\n",
    "print(masks.dtype)\n",
    "masks = masks.astype(int)\n",
    "print(masks.dtype)\n",
    "#print(masks)"
   ]
  },
  {
   "cell_type": "code",
   "execution_count": 2,
   "id": "e1aafa41",
   "metadata": {},
   "outputs": [
    {
     "data": {
      "text/plain": [
       "(246, 256, 14)"
      ]
     },
     "execution_count": 2,
     "metadata": {},
     "output_type": "execute_result"
    }
   ],
   "source": [
    "masks.shape"
   ]
  },
  {
   "cell_type": "code",
   "execution_count": 15,
   "id": "350efcf1",
   "metadata": {},
   "outputs": [],
   "source": [
    "# baca tfw file dari image prediksi untuk dapat cell-size dan koordinat topleft\n",
    "# tfw file berisi 6 baris: x-size, y-rotation, x-rotation, y-size, x-toplef, y-topleft\n",
    "path_image = \"./masks_shp_prof_multipoligon/tfw.tfw\"\n",
    "tfw = np.zeros((6))\n",
    "i = 0\n",
    "with open(path_image) as f:\n",
    "    lines=f.readlines()\n",
    "    for line in lines:\n",
    "        tfw[i] = np.fromstring(line, dtype=float, sep=',')\n",
    "        i = i+1\n",
    "#print(tfw)"
   ]
  },
  {
   "cell_type": "code",
   "execution_count": 14,
   "id": "4b179de5",
   "metadata": {},
   "outputs": [],
   "source": [
    "# COBAIN MENGATASI MULTIPOLYGON\n",
    "\n",
    "count_shp=0\n",
    "for i in range(masks.shape[2]):\n",
    "    shapes = rasterio.features.shapes(masks[:,:,i])\n",
    "    polygons = [shapely.geometry.Polygon(shape[0][\"coordinates\"][0]) for shape in shapes if shape[1] == 1]\n",
    "    #print(len(polygons))\n",
    "    if len(polygons)>1:\n",
    "        for j in range(len(polygons)):\n",
    "            polygons_sub = polygons[j]\n",
    "            #print(polygons_sub)\n",
    "    \n",
    "            # mengubah ke UTM\n",
    "            E,N = polygons_sub.exterior.coords.xy\n",
    "            E = np.asarray(E)\n",
    "            N = np.asarray(N)\n",
    "            UTM_coords = np.zeros((len(E),2))\n",
    "            for j in range(len(UTM_coords)):\n",
    "                UTM_coords[j,0] = tfw[4] + E[j]*tfw[0]\n",
    "                UTM_coords[j,1] = tfw[5] - N[j]*tfw[0]\n",
    "            polygons_utm = asPolygon(UTM_coords)\n",
    "            \n",
    "            # menyimpan shapefile\n",
    "            driver = ogr.GetDriverByName('Esri Shapefile')\n",
    "            ds = driver.CreateDataSource('./masks_shp_prof_multipoligon/coord_utm_masks{:}.shp'.format(count_shp))\n",
    "            layer = ds.CreateLayer('', None, ogr.wkbPolygon)\n",
    "            # Add one attribute\n",
    "            layer.CreateField(ogr.FieldDefn('id', ogr.OFTInteger))\n",
    "            defn = layer.GetLayerDefn()\n",
    "\n",
    "            ## If there are multiple geometries, put the \"for\" loop here\n",
    "\n",
    "            # Create a new feature (attribute and geometry)\n",
    "            feat = ogr.Feature(defn)\n",
    "            feat.SetField('id', 123)\n",
    "\n",
    "            # Make a geometry, from Shapely object\n",
    "            geom = ogr.CreateGeometryFromWkb(polygons_utm.wkb) # nama polygonnya\n",
    "            feat.SetGeometry(geom)\n",
    "\n",
    "            layer.CreateFeature(feat)\n",
    "            feat = geom = None  # destroy these\n",
    "\n",
    "            # Save and close everything\n",
    "            ds = layer = feat = geom = None            \n",
    "            \n",
    "            count_shp=count_shp+1\n",
    "    \n",
    "    else:\n",
    "        polygons_sub = polygons[0]\n",
    "        #print(polygons_sub[0].wkt)\n",
    "        \n",
    "        # mengubah ke UTM\n",
    "        E,N = polygons_sub.exterior.coords.xy\n",
    "        E = np.asarray(E)\n",
    "        N = np.asarray(N)\n",
    "        UTM_coords = np.zeros((len(E),2))\n",
    "        for j in range(len(UTM_coords)):\n",
    "            UTM_coords[j,0] = tfw[4] + E[j]*tfw[0]\n",
    "            UTM_coords[j,1] = tfw[5] - N[j]*tfw[0]\n",
    "        polygons_utm = asPolygon(UTM_coords)\n",
    "\n",
    "        # menyimpan shapefile\n",
    "        driver = ogr.GetDriverByName('Esri Shapefile')\n",
    "        ds = driver.CreateDataSource('./masks_shp_prof_multipoligon/coord_utm_masks{:}.shp'.format(count_shp))\n",
    "        layer = ds.CreateLayer('', None, ogr.wkbPolygon)\n",
    "        # Add one attribute\n",
    "        layer.CreateField(ogr.FieldDefn('id', ogr.OFTInteger))\n",
    "        defn = layer.GetLayerDefn()\n",
    "\n",
    "        ## If there are multiple geometries, put the \"for\" loop here\n",
    "\n",
    "        # Create a new feature (attribute and geometry)\n",
    "        feat = ogr.Feature(defn)\n",
    "        feat.SetField('id', 123)\n",
    "\n",
    "        # Make a geometry, from Shapely object\n",
    "        geom = ogr.CreateGeometryFromWkb(polygons_utm.wkb) # nama polygonnya\n",
    "        feat.SetGeometry(geom)\n",
    "\n",
    "        layer.CreateFeature(feat)\n",
    "        feat = geom = None  # destroy these\n",
    "\n",
    "        # Save and close everything\n",
    "        ds = layer = feat = geom = None            \n",
    "\n",
    "        count_shp=count_shp+1\n",
    "\n",
    "print(\"yeay finish\")"
   ]
  },
  {
   "cell_type": "code",
   "execution_count": null,
   "id": "72762158",
   "metadata": {},
   "outputs": [],
   "source": []
  }
 ],
 "metadata": {
  "kernelspec": {
   "display_name": "Python 3",
   "language": "python",
   "name": "python3"
  },
  "language_info": {
   "codemirror_mode": {
    "name": "ipython",
    "version": 3
   },
   "file_extension": ".py",
   "mimetype": "text/x-python",
   "name": "python",
   "nbconvert_exporter": "python",
   "pygments_lexer": "ipython3",
   "version": "3.9.5"
  }
 },
 "nbformat": 4,
 "nbformat_minor": 5
}
